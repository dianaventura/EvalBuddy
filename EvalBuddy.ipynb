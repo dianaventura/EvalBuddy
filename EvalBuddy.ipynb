{
  "nbformat": 4,
  "nbformat_minor": 0,
  "metadata": {
    "colab": {
      "provenance": [],
      "authorship_tag": "ABX9TyNCub3KogbZgOGr6vUZsyvw",
      "include_colab_link": true
    },
    "kernelspec": {
      "name": "python3",
      "display_name": "Python 3"
    },
    "language_info": {
      "name": "python"
    }
  },
  "cells": [
    {
      "cell_type": "markdown",
      "metadata": {
        "id": "view-in-github",
        "colab_type": "text"
      },
      "source": [
        "<a href=\"https://colab.research.google.com/github/dianaventura/EvalBuddy/blob/main/EvalBuddy.ipynb\" target=\"_parent\"><img src=\"https://colab.research.google.com/assets/colab-badge.svg\" alt=\"Open In Colab\"/></a>"
      ]
    },
    {
      "cell_type": "code",
      "execution_count": null,
      "metadata": {
        "colab": {
          "base_uri": "https://localhost:8080/"
        },
        "id": "t98HtVFGC_DL",
        "outputId": "f8030eba-a7a9-4d58-b949-1676be9e8bf4"
      },
      "outputs": [
        {
          "output_type": "stream",
          "name": "stdout",
          "text": [
            " Hello! Welcome to your Project Evaluation Buddy\n",
            "\n",
            "Enter a short summary of the project:\n",
            "> Evaluation Tool\n",
            "\n",
            "Rate each criterion from 1 (low) to 5 (high). Add optional notes.\n",
            "\n",
            "Longevity [1-5]: 5\n",
            "Notes for Longevity (optional): Can be used in all projects going forward\n",
            "Long-term goals [1-5]: 5\n",
            "Notes for Long-term goals (optional): Encourages creating with intent\n",
            "Impact [1-5]: 3\n",
            "Notes for Impact (optional): I am the sole user for now \n",
            "Portfolio contribution [1-5]: 5\n",
            "Notes for Portfolio contribution (optional): Helps showcase reflective thinking\n",
            "Time/Effort Efficiency: 5 = minimal time/effort for high value, 1 = excessive time/effort for low value\n",
            "Time/Effort Efficiency [1-5]: 5\n",
            "Notes for Time/Effort Efficiency (optional): 1hr\n",
            "Adaptability [1-5]: 5\n",
            "Notes for Adaptability (optional): Potential feature in bigger application for later\n",
            "Survival Score [1-5]: 2\n",
            "Notes for Survival Score (optional): Generous assuming human feedback loop pops off\n",
            "\n",
            "---\n",
            "Copy the following markdown into your README:\n",
            "\n",
            "### Project Summary\n",
            "Evaluation Tool\n",
            "\n",
            "| Criterion              | Score | Notes |\n",
            "|------------------------|-------|-------|\n",
            "| Longevity              | 5.0   | Can be used in all projects going forward |\n",
            "| Long-term goals        | 5.0   | Encourages creating with intent |\n",
            "| Impact                 | 3.0   | I am the sole user for now  |\n",
            "| Portfolio contribution | 5.0   | Helps showcase reflective thinking |\n",
            "| Time/Effort Efficiency | 5.0   | 1hr |\n",
            "| Adaptability           | 5.0   | Potential feature in bigger application for later |\n",
            "| Survival Score         | 2.0   | Generous assuming human feedback loop pops off |\n",
            "\n",
            "**Total Score:** 4.29 / 5\n"
          ]
        }
      ],
      "source": [
        "# project_evaluator.py\n",
        "\n",
        "criteria = [\n",
        "    (\"Longevity\", 1),  # how long will I use this for\n",
        "    (\"Long-term goals\", 1),  # does this align with future plans\n",
        "    (\"Impact\", 1),  # who can this help\n",
        "    (\"Portfolio contribution\", 1),  # is this a meaningful contribution\n",
        "    (\"Time/Effort Efficiency\", 1),  # is this a good use of time/effort for the value\n",
        "    (\"Adaptability\", 1),  # can this idea evolve alongside current tech\n",
        "    (\"Survival Score\", 1)  # will this tool survive the AI apocalypse\n",
        "]\n",
        "\n",
        "scores = []\n",
        "notes = []\n",
        "total = 0\n",
        "total_weight = 0\n",
        "\n",
        "print(\" Hello! Welcome to your Project Evaluation Buddy\\n\")\n",
        "summary = input(\"Enter a short summary of the project:\\n> \")\n",
        "\n",
        "print(\"\\nRate each criterion from 1 (low) to 5 (high). Add optional notes.\\n\")\n",
        "\n",
        "for name, weight in criteria:\n",
        "    # Custom prompt for Time/Effort Efficiency\n",
        "    if name == \"Time/Effort Efficiency\":\n",
        "        print(\"Time/Effort Efficiency: 5 = minimal time/effort for high value, 1 = excessive time/effort for low value\")\n",
        "    while True:\n",
        "        try:\n",
        "            score = float(input(f\"{name} [1-5]: \"))\n",
        "            if 1 <= score <= 5:\n",
        "                break\n",
        "            else:\n",
        "                print(\"Please enter a number between 1 and 5.\")\n",
        "        except ValueError:\n",
        "            print(\"Please enter a valid number.\")\n",
        "    note = input(f\"Notes for {name} (optional): \")\n",
        "    scores.append(score)\n",
        "    notes.append(note)\n",
        "    total += score * weight\n",
        "    total_weight += weight\n",
        "\n",
        "final_score = total / total_weight\n",
        "\n",
        "print(\"\\n---\\nCopy the following markdown into your README:\\n\")\n",
        "print(f\"### Project Summary\\n{summary}\\n\")\n",
        "print(\"| Criterion              | Score | Notes |\")\n",
        "print(\"|------------------------|-------|-------|\")\n",
        "for i, (name, _) in enumerate(criteria):\n",
        "    print(f\"| {name:<22} | {scores[i]:<5} | {notes[i]} |\")\n",
        "print(f\"\\n**Total Score:** {final_score:.2f} / 5\")\n"
      ]
    }
  ]
}